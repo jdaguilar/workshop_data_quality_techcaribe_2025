{
 "cells": [
  {
   "cell_type": "code",
   "execution_count": null,
   "id": "f57ee3c4",
   "metadata": {},
   "outputs": [],
   "source": [
    "import great_expectations as gx\n",
    "import pandas as pd\n",
    "from great_expectations.expectations import (\n",
    "    ExpectColumnValuesToMatchRegex,\n",
    "    ExpectColumnValuesToBeUnique,\n",
    "    ExpectColumnValuesToBeBetween, \n",
    "    ExpectColumnValuesToNotBeNull,    \n",
    ")\n"
   ]
  },
  {
   "cell_type": "markdown",
   "id": "b62446a9",
   "metadata": {},
   "source": [
    "Definir Contexto de GX\n",
    "\n",
    "Si inicializa Great Expectations en la sesión definiendo el contexto"
   ]
  },
  {
   "cell_type": "code",
   "execution_count": null,
   "id": "9cfd4a09",
   "metadata": {},
   "outputs": [],
   "source": [
    "context = gx.get_context()"
   ]
  },
  {
   "cell_type": "code",
   "execution_count": null,
   "id": "cc7c924c",
   "metadata": {},
   "outputs": [],
   "source": [
    "df = pd.DataFrame({\n",
    "    \"id\": [1,2,3,3],\n",
    "    \"email\": [\"a@x.com\",\"b@x.com\", None, \"d@x.com\"],\n",
    "    \"amount\": [100, -5, 30, 40]\n",
    "})"
   ]
  },
  {
   "cell_type": "code",
   "execution_count": null,
   "id": "6a18e292",
   "metadata": {},
   "outputs": [],
   "source": [
    "df"
   ]
  },
  {
   "cell_type": "markdown",
   "id": "d0a0ae5c",
   "metadata": {},
   "source": [
    "GX necesita definir 3 componentes:\n",
    "\n",
    "- Data Source: Tipo de fuente a la que se conectará.\n",
    "- Data Asset: Apuntador de la fuente\n",
    "- Batch Definition: Parametrización que define si puede traer todo los datos o una fracción"
   ]
  },
  {
   "cell_type": "code",
   "execution_count": null,
   "id": "03786264",
   "metadata": {},
   "outputs": [],
   "source": [
    "batch_definition = context.data_sources.pandas_default.add_dataframe_asset(name=\"demo_df_asset\")\n",
    "batch_def = batch_definition.add_batch_definition_whole_dataframe(name=\"whole_df\")\n",
    "batch = batch_def.get_batch(batch_parameters={\"dataframe\": df})\n"
   ]
  },
  {
   "cell_type": "markdown",
   "id": "8b95389f",
   "metadata": {},
   "source": [
    "Crear Expectations Suite"
   ]
  },
  {
   "cell_type": "code",
   "execution_count": null,
   "id": "675f0944",
   "metadata": {},
   "outputs": [],
   "source": [
    "suite_name = \"demo_suite\"\n",
    "suite = gx.ExpectationSuite(name=suite_name)\n",
    "suite = context.suites.add(suite)\n",
    "\n",
    "# 4. Expectativas\n",
    "suite.add_expectation(\n",
    "    ExpectColumnValuesToBeBetween(\n",
    "        column=\"amount\", \n",
    "        min_value=0, \n",
    "    )\n",
    ")\n",
    "\n",
    "suite.add_expectation(\n",
    "    ExpectColumnValuesToBeUnique(\n",
    "        column=\"id\", \n",
    "    )\n",
    ")\n",
    "\n",
    "suite.add_expectation(\n",
    "    ExpectColumnValuesToBeUnique(\n",
    "        column=\"email\", \n",
    "    )\n",
    ")\n",
    "\n",
    "suite.add_expectation(\n",
    "    ExpectColumnValuesToMatchRegex(\n",
    "        column=\"email\", \n",
    "        regex=r\"^[^@]+@[^@]+\\.[^@]+$\"\n",
    "    )\n",
    ")\n",
    "\n",
    "suite.add_expectation(\n",
    "    ExpectColumnValuesToNotBeNull(\n",
    "        column=\"id\",\n",
    "    )\n",
    ")\n",
    "\n",
    "suite.add_expectation(\n",
    "    ExpectColumnValuesToNotBeNull(\n",
    "        column=\"email\",\n",
    "    )\n",
    ")\n"
   ]
  },
  {
   "cell_type": "markdown",
   "id": "d73b2408",
   "metadata": {},
   "source": [
    "Validar Expectativas"
   ]
  },
  {
   "cell_type": "code",
   "execution_count": null,
   "id": "a8a52771",
   "metadata": {},
   "outputs": [],
   "source": [
    "\n",
    "# Test the Expectation:\n",
    "validation_results = batch.validate(suite, result_format=\"COMPLETE\")\n",
    "\n",
    "# Evaluate the Validation Results:\n",
    "print(validation_results)\n"
   ]
  },
  {
   "cell_type": "code",
   "execution_count": null,
   "id": "75c5d97b",
   "metadata": {},
   "outputs": [],
   "source": [
    "# Print expectation results\n",
    "for result in validation_results[\"results\"]:\n",
    "    print(\"column: \", result['expectation_config']['kwargs']['column'])\n",
    "    print(f\"Expectation: {result['expectation_config']['type']}\")\n",
    "    print(f\"Success: {result['success']}\")\n",
    "\n",
    "    if not result['success']:\n",
    "        print(f\"Details: {result['result']}\")\n",
    "    \n",
    "    print(\"-\" * 80)\n"
   ]
  }
 ],
 "metadata": {
  "kernelspec": {
   "display_name": "gxe",
   "language": "python",
   "name": "python3"
  },
  "language_info": {
   "codemirror_mode": {
    "name": "ipython",
    "version": 3
   },
   "file_extension": ".py",
   "mimetype": "text/x-python",
   "name": "python",
   "nbconvert_exporter": "python",
   "pygments_lexer": "ipython3",
   "version": "3.12.11"
  }
 },
 "nbformat": 4,
 "nbformat_minor": 5
}
